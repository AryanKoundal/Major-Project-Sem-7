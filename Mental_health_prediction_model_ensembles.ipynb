{
  "metadata": {
    "kernelspec": {
      "language": "python",
      "display_name": "Python 3",
      "name": "python3"
    },
    "language_info": {
      "pygments_lexer": "ipython3",
      "nbconvert_exporter": "python",
      "version": "3.6.4",
      "file_extension": ".py",
      "codemirror_mode": {
        "name": "ipython",
        "version": 3
      },
      "name": "python",
      "mimetype": "text/x-python"
    },
    "kaggle": {
      "accelerator": "none",
      "dataSources": [
        {
          "sourceId": 673,
          "sourceType": "datasetVersion",
          "datasetId": 311
        }
      ],
      "dockerImageVersionId": 30527,
      "isInternetEnabled": false,
      "language": "python",
      "sourceType": "notebook",
      "isGpuEnabled": false
    },
    "colab": {
      "provenance": []
    }
  },
  "nbformat_minor": 0,
  "nbformat": 4,
  "cells": [
    {
      "cell_type": "markdown",
      "source": [
        "\n",
        "## I. Importing Libraries and pulling dataset"
      ],
      "metadata": {
        "id": "Dy1WFfnzxE6p"
      }
    },
    {
      "cell_type": "code",
      "source": [
        "# Library to suppress warnings or deprecation notes\n",
        "import warnings\n",
        "warnings.filterwarnings(\"ignore\")\n",
        "\n",
        "# Libraries to help with reading data and working on it (tabular and numerical)\n",
        "\n",
        "import pandas as pd\n",
        "import numpy as np\n",
        "\n",
        "# Libraries to perform statistical analysis\n",
        "import scipy.stats as stats\n",
        "import sklearn\n",
        "\n",
        "# Library to split data\n",
        "from sklearn.model_selection import train_test_split\n",
        "\n",
        "# libaries to help with data visualization\n",
        "import matplotlib.pyplot as plt\n",
        "import seaborn as sns\n",
        "\n",
        "# Removes the limit for the number of displayed columns\n",
        "pd.set_option(\"display.max_columns\", None)\n",
        "# Sets the limit for the number of displayed rows\n",
        "pd.set_option(\"display.max_rows\", 200)\n",
        "\n",
        "# statemodels\n",
        "import statsmodels.api as sm\n",
        "from statsmodels.tools.tools import add_constant\n",
        "\n",
        "# To build logistic regression model\n",
        "from sklearn.linear_model import LogisticRegression\n",
        "\n",
        "# To get diferent metric scores\n",
        "from sklearn import metrics\n",
        "from sklearn.metrics import (\n",
        "    f1_score,\n",
        "    accuracy_score,\n",
        "    recall_score,\n",
        "    precision_score,\n",
        "    confusion_matrix,\n",
        "    roc_auc_score,\n",
        "    precision_recall_curve,\n",
        "    roc_curve,\n",
        "    make_scorer,\n",
        ")\n",
        "\n",
        "# Libraries to build decision tree classifier\n",
        "from sklearn.tree import DecisionTreeClassifier\n",
        "from sklearn import tree\n",
        "\n",
        "# Libraries to import different ensemble classifiers\n",
        "from sklearn.ensemble import BaggingClassifier\n",
        "from sklearn.ensemble import RandomForestClassifier\n",
        "\n",
        "# To tune different models\n",
        "from sklearn.model_selection import GridSearchCV\n",
        "\n",
        "import os\n",
        "for dirname, _, filenames in os.walk('/kaggle/input'):\n",
        "    for filename in filenames:\n",
        "        print(os.path.join(dirname, filename))"
      ],
      "metadata": {
        "execution": {
          "iopub.status.busy": "2023-08-26T00:56:49.210796Z",
          "iopub.execute_input": "2023-08-26T00:56:49.212196Z",
          "iopub.status.idle": "2023-08-26T00:56:50.297355Z",
          "shell.execute_reply.started": "2023-08-26T00:56:49.212154Z",
          "shell.execute_reply": "2023-08-26T00:56:50.296014Z"
        },
        "id": "-PkjaEjTwWhm"
      },
      "execution_count": null,
      "outputs": []
    },
    {
      "cell_type": "code",
      "source": [
        "# Loading the survey into out notebook\n",
        "mhdata = pd.read_csv('survey.csv')"
      ],
      "metadata": {
        "execution": {
          "iopub.status.busy": "2023-08-26T00:56:50.303062Z",
          "iopub.execute_input": "2023-08-26T00:56:50.303395Z",
          "iopub.status.idle": "2023-08-26T00:56:50.329915Z",
          "shell.execute_reply.started": "2023-08-26T00:56:50.303366Z",
          "shell.execute_reply": "2023-08-26T00:56:50.328891Z"
        },
        "trusted": true,
        "id": "BhpyoKDFwWhn"
      },
      "execution_count": null,
      "outputs": []
    },
    {
      "cell_type": "markdown",
      "source": [
        "## II. EDA and Data Preparation"
      ],
      "metadata": {
        "id": "heo_7EXMwWhn"
      }
    },
    {
      "cell_type": "code",
      "source": [
        "# Checking the dimensions of our data\n",
        "mhdata.shape"
      ],
      "metadata": {
        "execution": {
          "iopub.status.busy": "2023-08-26T00:56:58.48694Z",
          "iopub.execute_input": "2023-08-26T00:56:58.487675Z",
          "iopub.status.idle": "2023-08-26T00:56:58.496059Z",
          "shell.execute_reply.started": "2023-08-26T00:56:58.487633Z",
          "shell.execute_reply": "2023-08-26T00:56:58.49451Z"
        },
        "trusted": true,
        "id": "BgehhiVBwWho"
      },
      "execution_count": null,
      "outputs": []
    },
    {
      "cell_type": "markdown",
      "source": [
        "We have 27 columns and 1,259 entries from the survey"
      ],
      "metadata": {
        "id": "V_AI73C2wWhp"
      }
    },
    {
      "cell_type": "code",
      "source": [
        "# Taking a peak at the first five entries in our dataset\n",
        "mhdata.head(5)"
      ],
      "metadata": {
        "execution": {
          "iopub.status.busy": "2023-08-26T00:56:59.44025Z",
          "iopub.execute_input": "2023-08-26T00:56:59.440677Z",
          "iopub.status.idle": "2023-08-26T00:56:59.472626Z",
          "shell.execute_reply.started": "2023-08-26T00:56:59.440643Z",
          "shell.execute_reply": "2023-08-26T00:56:59.471258Z"
        },
        "trusted": true,
        "id": "qI1Nl_vIwWhp"
      },
      "execution_count": null,
      "outputs": []
    },
    {
      "cell_type": "code",
      "source": [
        "# Checking for data types of each attribute\n",
        "mhdata.info()"
      ],
      "metadata": {
        "execution": {
          "iopub.status.busy": "2023-08-26T00:56:59.910029Z",
          "iopub.execute_input": "2023-08-26T00:56:59.910501Z",
          "iopub.status.idle": "2023-08-26T00:56:59.93993Z",
          "shell.execute_reply.started": "2023-08-26T00:56:59.91046Z",
          "shell.execute_reply": "2023-08-26T00:56:59.938104Z"
        },
        "trusted": true,
        "id": "vt6Cs-SlwWhp"
      },
      "execution_count": null,
      "outputs": []
    },
    {
      "cell_type": "markdown",
      "source": [
        "It seems that all attributes are objects based on the nature of the data. This is correct but this will be hard to work a model on. This will be explained later on."
      ],
      "metadata": {
        "id": "sZQHRj6MwWhp"
      }
    },
    {
      "cell_type": "markdown",
      "source": [
        "### Attribute Information\n",
        "\n",
        "**Timestamp** - date and time the survey was taken <br>\n",
        "**Age** - age of the surveyee <br>\n",
        "**Gender** - gender of surveyee <br>\n",
        "**Country** - the country which the surveyee resides and works in <br>\n",
        "**State** - which state in the US (if the answer to the country attribute is currently in the US) <br>\n",
        "**self_employed** - Self-employed? <br>\n",
        "**family_history** - family history of mental illness present? <br>\n",
        "**treatment** - sought treatment for a mental health condition? <br>\n",
        "**work_interfere** - does mental health condition (if any) interfere with work? <br>\n",
        "**no_employees** - Number of employees at work? <br>\n",
        "**remote_work** - work remotely more than 50% of workshift? <br>\n",
        "**tech_company** - Is the company you work in primarily a tech company? <br>\n",
        "**benefits** - Does your company provide mental health benefits? <br>\n",
        "**care_options** - Are you aware of the options for mental health treatment that your company provides? <br>\n",
        "**wellness_program** - Is mental health included in the health wellness program of your company? <br>\n",
        "**seek_help** - Does your company assist you or give options on how to seek medical help? <br>\n",
        "**anonymity** - Is your identity protected should you seek medical treatment regarding mental health? <br>\n",
        "**leave** - Is taking a leave due to mental health easy within your company? <br>\n",
        "**mental_health_consequence** - Do you feel or think that your company takes it negatively when you talk to them about your mental health condition? <br>\n",
        "**phys_health_consequence** - Do you feel or think that your company takes it negatively when you talk to them about your physical health condition? <br>\n",
        "**coworkers** - Are you open to talk about mental health issues with your peers at work? <br>\n",
        "**supervisor** - Are you open to talk about mental health issues with your supervisor? <br>\n",
        "**mental_health_interview** - Would you open up about mental health issues with a prospective company during an interview? <br>\n",
        "**phys_health_interview** - Would you open up about physical health issues with a prospective company during an interview? <br>\n",
        "**mental_vs_physical** - Do you think that your company's concern for mental health and physical health are of the same weight? <br>\n",
        "**obs_consequence** - Have you heard of or observed negative feedback at your workplace for a fellow employee with a mental health condition? <br>\n",
        "**comments** - Additional comments"
      ],
      "metadata": {
        "id": "kkh-9Tn7wWhp"
      }
    },
    {
      "cell_type": "markdown",
      "source": [
        "### Cleaning the Data\n",
        "We are aware that surveys may not give out the best results for uniformity, so we will take extra steps to clean the data and make it uniform"
      ],
      "metadata": {
        "id": "H8mITM39wWhq"
      }
    },
    {
      "cell_type": "code",
      "source": [
        "# Checking for missing values\n",
        "mhdata.isna().apply(pd.value_counts).T\n"
      ],
      "metadata": {
        "execution": {
          "iopub.status.busy": "2023-08-26T00:57:01.885274Z",
          "iopub.execute_input": "2023-08-26T00:57:01.885734Z",
          "iopub.status.idle": "2023-08-26T00:57:01.941072Z",
          "shell.execute_reply.started": "2023-08-26T00:57:01.8857Z",
          "shell.execute_reply": "2023-08-26T00:57:01.939541Z"
        },
        "trusted": true,
        "id": "G0PHdLB4wWhq"
      },
      "execution_count": null,
      "outputs": []
    },
    {
      "cell_type": "code",
      "source": [
        "# Checking for duplicates in the dataset\n",
        "mhdata.duplicated().any()"
      ],
      "metadata": {
        "execution": {
          "iopub.status.busy": "2023-08-26T00:57:02.465245Z",
          "iopub.execute_input": "2023-08-26T00:57:02.465689Z",
          "iopub.status.idle": "2023-08-26T00:57:02.482433Z",
          "shell.execute_reply.started": "2023-08-26T00:57:02.465651Z",
          "shell.execute_reply": "2023-08-26T00:57:02.480944Z"
        },
        "trusted": true,
        "id": "qAMhck5ewWhq"
      },
      "execution_count": null,
      "outputs": []
    },
    {
      "cell_type": "markdown",
      "source": [
        "No duplicated entries are present in the set"
      ],
      "metadata": {
        "id": "FijJG7lrwWhq"
      }
    },
    {
      "cell_type": "code",
      "source": [
        "# Dropping columns not needed/ not useful for EDA and modeling\n",
        "mhdata.drop(columns=['Timestamp', 'Country', 'state', 'comments'], inplace = True)"
      ],
      "metadata": {
        "execution": {
          "iopub.status.busy": "2023-08-26T00:57:03.525693Z",
          "iopub.execute_input": "2023-08-26T00:57:03.526166Z",
          "iopub.status.idle": "2023-08-26T00:57:03.533783Z",
          "shell.execute_reply.started": "2023-08-26T00:57:03.526131Z",
          "shell.execute_reply": "2023-08-26T00:57:03.532497Z"
        },
        "trusted": true,
        "id": "rrH5_ZgGwWhr"
      },
      "execution_count": null,
      "outputs": []
    },
    {
      "cell_type": "markdown",
      "source": [
        "Dropping the following columns:\n",
        "\n",
        "* **Timestamp** - contains date and time of when the surveyee took the survey; not really useful for analysis\n",
        "* **Country** - contains information on where the surveyee lives; this would be a useful for a really large dataset with no 1 country dominating more than half of the answers. In our dataset, roughly 59% of the surveyee reside in the USA.\n",
        "* **state** - contains information on which state in particular the surveyee lives if they ever answered USA in the Country field. Since only the rest of the 41% of the dataset live outside the USA, we have 41% of null values and would not be organic to include this one\n",
        "* **comments** - an optional field for surveyees to answer: any additional comments they would like to make regarding the survey; this will not be included since we only got 14% surveyees who answered this field. We are also not doing a text analysis."
      ],
      "metadata": {
        "id": "TLETENXBwWhr"
      }
    },
    {
      "cell_type": "code",
      "source": [
        "# Renaming columns for uniformity and ease of understanding. We like uniformity!\n",
        "mhdata.rename({'self_employed' : 'Self_Employed', 'family_history' : 'Family_History',\n",
        "           'treatment' : 'Treatment', 'work_interfere' : 'Work_Interfere',\n",
        "           'no_employees': 'Employee_Count_Company', 'remote_work': 'Remote_Work', 'tech_company': 'Tech_Company',\n",
        "           'benefits': 'Benefits', 'care_options': 'Care_Options', 'wellness_program': 'Wellness_Program',\n",
        "           'seek_help': 'Seek_Help', 'anonymity': 'Anonymity', 'leave': 'Medical_Leave',\n",
        "           'mental_health_consequence': 'Mental_Health_Consequence',\n",
        "           'phys_health_consequence': 'Physical_Health_Consequence', 'coworkers': 'Coworkers_Reach',\n",
        "           'supervisor': 'Supervisor_Reach', 'mental_health_interview': 'Mental_Health_Interview',\n",
        "           'phys_health_interview': 'Physical_Health_Interview', 'mental_vs_physical': 'Mental_VS_Physical',\n",
        "           'obs_consequence': 'Observed_Consequence_Workplace'} , inplace = True , axis = 1)"
      ],
      "metadata": {
        "execution": {
          "iopub.status.busy": "2023-08-26T00:57:04.625617Z",
          "iopub.execute_input": "2023-08-26T00:57:04.626138Z",
          "iopub.status.idle": "2023-08-26T00:57:04.635426Z",
          "shell.execute_reply.started": "2023-08-26T00:57:04.626096Z",
          "shell.execute_reply": "2023-08-26T00:57:04.634264Z"
        },
        "trusted": true,
        "id": "s-UbpvO7wWhr"
      },
      "execution_count": null,
      "outputs": []
    },
    {
      "cell_type": "code",
      "source": [
        "# Checking the entries for age\n",
        "mhdata['Age'].unique()"
      ],
      "metadata": {
        "execution": {
          "iopub.status.busy": "2023-08-26T00:57:37.490585Z",
          "iopub.execute_input": "2023-08-26T00:57:37.491081Z",
          "iopub.status.idle": "2023-08-26T00:57:37.501005Z",
          "shell.execute_reply.started": "2023-08-26T00:57:37.491047Z",
          "shell.execute_reply": "2023-08-26T00:57:37.49966Z"
        },
        "trusted": true,
        "id": "cGpx_yhKwWhr"
      },
      "execution_count": null,
      "outputs": []
    },
    {
      "cell_type": "markdown",
      "source": [
        "We have ages that are off (negative and immortal numbers). Let's fix them by imputing."
      ],
      "metadata": {
        "id": "7Nxd00F6wWhs"
      }
    },
    {
      "cell_type": "code",
      "source": [
        "# calculating the median age\n",
        "median_age = mhdata['Age'].median()\n",
        "print(median_age)"
      ],
      "metadata": {
        "execution": {
          "iopub.status.busy": "2023-08-26T00:57:39.380418Z",
          "iopub.execute_input": "2023-08-26T00:57:39.380969Z",
          "iopub.status.idle": "2023-08-26T00:57:39.38925Z",
          "shell.execute_reply.started": "2023-08-26T00:57:39.38093Z",
          "shell.execute_reply": "2023-08-26T00:57:39.388194Z"
        },
        "trusted": true,
        "id": "pjsZPHT0wWhs"
      },
      "execution_count": null,
      "outputs": []
    },
    {
      "cell_type": "code",
      "source": [
        "# since some of data are impossible to work with, we will replace impossible values with the median age\n",
        "mhdata['Age'].replace([mhdata['Age'][mhdata['Age'] < 15]], median_age, inplace = True)\n",
        "mhdata['Age'].replace([mhdata['Age'][mhdata['Age'] > 100]], median_age, inplace = True)\n",
        "\n",
        "mhdata['Age'].unique()"
      ],
      "metadata": {
        "execution": {
          "iopub.status.busy": "2023-08-26T00:57:40.045405Z",
          "iopub.execute_input": "2023-08-26T00:57:40.045962Z",
          "iopub.status.idle": "2023-08-26T00:57:40.060635Z",
          "shell.execute_reply.started": "2023-08-26T00:57:40.045917Z",
          "shell.execute_reply": "2023-08-26T00:57:40.058973Z"
        },
        "trusted": true,
        "id": "McRFMku2wWhs"
      },
      "execution_count": null,
      "outputs": []
    },
    {
      "cell_type": "markdown",
      "source": [
        "Replacing impossible values with the median age was our call to use instead of np.nan since we want to avoid missing values in our dataset. Using the median age preserves the central tendency of the data and minimizes the impact of outliers. Here, we set a limit to <15 (minimum working age according to International Labor Organization [ILO] standards) and >100 to avoid outliers"
      ],
      "metadata": {
        "id": "3T-tnqXdwWhs"
      }
    },
    {
      "cell_type": "code",
      "source": [
        "# Checking the entries for gender\n",
        "mhdata['Gender'].unique()"
      ],
      "metadata": {
        "execution": {
          "iopub.status.busy": "2023-08-26T00:57:42.125937Z",
          "iopub.execute_input": "2023-08-26T00:57:42.126399Z",
          "iopub.status.idle": "2023-08-26T00:57:42.134524Z",
          "shell.execute_reply.started": "2023-08-26T00:57:42.126365Z",
          "shell.execute_reply": "2023-08-26T00:57:42.133429Z"
        },
        "trusted": true,
        "id": "o91ku-xWwWhs"
      },
      "execution_count": null,
      "outputs": []
    },
    {
      "cell_type": "code",
      "source": [
        "# We will only limit our analysis to three categories\n",
        "mhdata['Gender'].replace(['Male ', 'male', 'M', 'm', 'Male', 'Cis Male',\n",
        "                     'Man', 'cis male', 'Mail', 'Male-ish', 'Male (CIS)',\n",
        "                      'Cis Man', 'msle', 'Malr', 'Mal', 'maile', 'Make',], 'Male', inplace = True)\n",
        "\n",
        "mhdata['Gender'].replace(['Female ', 'female', 'F', 'f', 'Woman', 'Female',\n",
        "                     'femail', 'Cis Female', 'cis-female/femme', 'Femake', 'Female (cis)',\n",
        "                     'woman',], 'Female', inplace = True)\n",
        "\n",
        "mhdata[\"Gender\"].replace(['Female (trans)', 'queer/she/they', 'non-binary',\n",
        "                     'fluid', 'queer', 'Androgyne', 'Trans-female', 'male leaning androgynous',\n",
        "                      'Agender', 'A little about you', 'Nah', 'All',\n",
        "                      'ostensibly male, unsure what that really means',\n",
        "                      'Genderqueer', 'Enby', 'p', 'Neuter', 'something kinda male?',\n",
        "                      'Guy (-ish) ^_^', 'Trans woman',], 'Queer', inplace = True)"
      ],
      "metadata": {
        "execution": {
          "iopub.status.busy": "2023-08-26T00:57:42.850467Z",
          "iopub.execute_input": "2023-08-26T00:57:42.850945Z",
          "iopub.status.idle": "2023-08-26T00:57:42.871817Z",
          "shell.execute_reply.started": "2023-08-26T00:57:42.850909Z",
          "shell.execute_reply": "2023-08-26T00:57:42.870502Z"
        },
        "trusted": true,
        "id": "9TxXKbLkwWhs"
      },
      "execution_count": null,
      "outputs": []
    },
    {
      "cell_type": "code",
      "source": [
        "mhdata['Gender'].value_counts()"
      ],
      "metadata": {
        "execution": {
          "iopub.status.busy": "2023-08-26T00:57:43.505066Z",
          "iopub.execute_input": "2023-08-26T00:57:43.505474Z",
          "iopub.status.idle": "2023-08-26T00:57:43.51867Z",
          "shell.execute_reply.started": "2023-08-26T00:57:43.505442Z",
          "shell.execute_reply": "2023-08-26T00:57:43.516941Z"
        },
        "trusted": true,
        "id": "SnlX6FA_wWhs"
      },
      "execution_count": null,
      "outputs": []
    },
    {
      "cell_type": "markdown",
      "source": [
        "With that fixed, we identify 991 entries from male respondents, 247 entries from female respondents, and 21 entries from queer respondents"
      ],
      "metadata": {
        "id": "NyxHh60qwWht"
      }
    },
    {
      "cell_type": "code",
      "source": [
        "# we want to make sure that the answers are limited to boolean-like values\n",
        "columns_to_print = ['Self_Employed', 'Family_History','Treatment', 'Work_Interfere', 'Employee_Count_Company', 'Remote_Work',\n",
        "                    'Tech_Company', 'Benefits', 'Care_Options', 'Wellness_Program',\n",
        "                    'Seek_Help', 'Anonymity', 'Medical_Leave', 'Mental_Health_Consequence',\n",
        "                    'Physical_Health_Consequence', 'Coworkers_Reach', 'Supervisor_Reach',\n",
        "                    'Mental_Health_Interview', 'Physical_Health_Interview', 'Mental_VS_Physical',\n",
        "                    'Observed_Consequence_Workplace']\n",
        "\n",
        "for column in columns_to_print:\n",
        "    print(f\"{column}:\")\n",
        "    print(mhdata[column].value_counts())\n",
        "    print()"
      ],
      "metadata": {
        "execution": {
          "iopub.status.busy": "2023-08-26T00:57:44.559972Z",
          "iopub.execute_input": "2023-08-26T00:57:44.560383Z",
          "iopub.status.idle": "2023-08-26T00:57:44.593463Z",
          "shell.execute_reply.started": "2023-08-26T00:57:44.560353Z",
          "shell.execute_reply": "2023-08-26T00:57:44.592049Z"
        },
        "trusted": true,
        "id": "P0vmcZV5wWht"
      },
      "execution_count": null,
      "outputs": []
    },
    {
      "cell_type": "markdown",
      "source": [
        "### EDA\n",
        "#### Target Variable - Treatment"
      ],
      "metadata": {
        "id": "Z6Y7mGlcwWht"
      }
    },
    {
      "cell_type": "code",
      "source": [
        "# Chart for whether respondent sought medical treatment or not\n",
        "sns.set_style(\"whitegrid\")\n",
        "plt.figure(figsize = (8,6))\n",
        "eda_percentage = mhdata['Treatment'].value_counts(normalize = True).rename_axis('Treatment').reset_index(name = 'Percentage')\n",
        "sns.barplot(x = 'Treatment', y = 'Percentage', data = eda_percentage.head(10))\n",
        "plt.title('Respondents who Sought Medical Treatment')\n",
        "plt.show()"
      ],
      "metadata": {
        "execution": {
          "iopub.status.busy": "2023-08-26T00:58:09.2512Z",
          "iopub.execute_input": "2023-08-26T00:58:09.251726Z",
          "iopub.status.idle": "2023-08-26T00:58:09.568262Z",
          "shell.execute_reply.started": "2023-08-26T00:58:09.251689Z",
          "shell.execute_reply": "2023-08-26T00:58:09.566957Z"
        },
        "trusted": true,
        "id": "tHGJ2CDvwWht"
      },
      "execution_count": null,
      "outputs": []
    },
    {
      "cell_type": "markdown",
      "source": [
        "#### Respondent Demography with Respect to Target"
      ],
      "metadata": {
        "id": "pfhrSNemwWht"
      }
    },
    {
      "cell_type": "code",
      "source": [
        "# Chart for Age\n",
        "plt.figure(figsize = (18,5))\n",
        "plt.subplot(1,2,1)\n",
        "sns.distplot(mhdata['Age'], label = 'Skewness : %.2f'%(mhdata['Age'].skew()))\n",
        "plt.legend(loc = 0, fontsize = 10)\n",
        "plt.title('Distribution for Age of Survey Respondents')\n",
        "plt.subplot(1,2,2)\n",
        "sns.boxplot(x = \"Age\", y = \"Treatment\", data = mhdata)\n",
        "plt.title('Boxplot for Age of Survey Respondents')\n",
        "age = str(mhdata['Age'].describe().round(2))\n",
        "plt.text(56, 0.85, age)\n",
        "plt.show()"
      ],
      "metadata": {
        "execution": {
          "iopub.status.busy": "2023-08-26T00:58:13.16542Z",
          "iopub.execute_input": "2023-08-26T00:58:13.166233Z",
          "iopub.status.idle": "2023-08-26T00:58:13.985215Z",
          "shell.execute_reply.started": "2023-08-26T00:58:13.166191Z",
          "shell.execute_reply": "2023-08-26T00:58:13.983963Z"
        },
        "trusted": true,
        "id": "u5D2swg1wWhu"
      },
      "execution_count": null,
      "outputs": []
    },
    {
      "cell_type": "markdown",
      "source": [
        "Distribution and Boxplot has been called to check the profile of the surveyees.\n",
        "\n",
        "* Results show that age attribute is skewed to the right. We have the highest age at 72 and lowest at 18, the skewness indicates that majority of the tech employees are the young generations ranging from their 20s to late 30s; assuming mid to senior level positions in the tech industry.\n",
        "* The boxplot figure presents tech employees that seek medical treatment have much diverse age group, while the group of respondents who did NOT seek medical treatment have a younger range. Both factors are not that significant."
      ],
      "metadata": {
        "id": "lAfNsmUAwWhu"
      }
    },
    {
      "cell_type": "code",
      "source": [
        "# Chart for Gender\n",
        "plt.figure(figsize = (20, 5))\n",
        "\n",
        "# Bar plot for Gender distribution\n",
        "plt.subplot(1, 2, 1)\n",
        "eda_percentage = mhdata['Gender'].value_counts(normalize=True).rename_axis('Gender').reset_index(name='Percentage')\n",
        "sns.barplot(x = 'Gender', y = 'Percentage', data=eda_percentage.head(10))\n",
        "plt.title('Gender of Survey Respondents')\n",
        "\n",
        "# Count plot for Gender with hue by Treatment\n",
        "plt.subplot(1, 2, 2)\n",
        "sns.countplot(y = mhdata['Gender'], hue=mhdata['Treatment'])\n",
        "plt.title('Gender of Survey Respondents')\n",
        "\n",
        "plt.tight_layout()\n",
        "plt.show()"
      ],
      "metadata": {
        "execution": {
          "iopub.status.busy": "2023-08-26T00:59:55.726144Z",
          "iopub.execute_input": "2023-08-26T00:59:55.726691Z",
          "iopub.status.idle": "2023-08-26T00:59:56.602604Z",
          "shell.execute_reply.started": "2023-08-26T00:59:55.726652Z",
          "shell.execute_reply": "2023-08-26T00:59:56.601159Z"
        },
        "trusted": true,
        "id": "3pTULIj6wWhu"
      },
      "execution_count": null,
      "outputs": []
    },
    {
      "cell_type": "markdown",
      "source": [
        "Majority of the surveyees are Male at more than 75%. Male respondents are more likely not to seek medical treatment for mental health compared to other genders."
      ],
      "metadata": {
        "id": "ufnwhU8iwWhu"
      }
    },
    {
      "cell_type": "code",
      "source": [
        "# Chart for Family History\n",
        "plt.figure(figsize = (20,5))\n",
        "\n",
        "# Bar plot for Family History distribution\n",
        "plt.subplot(1,2,1)\n",
        "eda_percentage = mhdata['Family_History'].value_counts(normalize = True).rename_axis('Family_History').reset_index(name = 'Percentage')\n",
        "sns.barplot(x = 'Family_History', y = 'Percentage', data = eda_percentage)\n",
        "plt.title('Family History of Survey Respondents')\n",
        "\n",
        "# Count plot for Family History with hue by Treatment\n",
        "plt.subplot(1,2,2)\n",
        "sns.countplot(y = mhdata['Family_History'], hue = mhdata['Treatment'])\n",
        "plt.title('Family History of Survey Respondents')\n",
        "plt.show()"
      ],
      "metadata": {
        "execution": {
          "iopub.status.busy": "2023-08-26T01:03:12.766527Z",
          "iopub.execute_input": "2023-08-26T01:03:12.767029Z",
          "iopub.status.idle": "2023-08-26T01:03:13.371555Z",
          "shell.execute_reply.started": "2023-08-26T01:03:12.766993Z",
          "shell.execute_reply": "2023-08-26T01:03:13.37017Z"
        },
        "trusted": true,
        "id": "gPdafRpYwWhu"
      },
      "execution_count": null,
      "outputs": []
    },
    {
      "cell_type": "markdown",
      "source": [
        "Majority of the survey respondents recorded that they don't have a family history of mental health conditions; and respondents who said they have a family history are more likely to seek medical treatment."
      ],
      "metadata": {
        "id": "JL149CQbwWhu"
      }
    },
    {
      "cell_type": "markdown",
      "source": [
        "#### Working Conditions with Respect to Target"
      ],
      "metadata": {
        "id": "jiMVXwF8wWhu"
      }
    },
    {
      "cell_type": "code",
      "source": [
        "# Chart for Work Interference (of mental health)\n",
        "plt.figure(figsize = (20,5))\n",
        "\n",
        "# Bar plot for Work Interference distribution\n",
        "plt.subplot(1,2,1)\n",
        "eda_percentage = mhdata['Work_Interfere'].value_counts(normalize = True).rename_axis('Work_Interfere').reset_index(name = 'Percentage')\n",
        "sns.barplot(x = 'Work_Interfere', y = 'Percentage', data = eda_percentage)\n",
        "plt.title('Work Interfere of Survey Respondents')\n",
        "\n",
        "# Count plot for Work Interference with hue by Treatment\n",
        "plt.subplot(1,2,2)\n",
        "sns.countplot(x = mhdata['Work_Interfere'], hue = mhdata['Treatment'])\n",
        "plt.title('Work Interfere of Survey Respondents')\n",
        "plt.show()"
      ],
      "metadata": {
        "execution": {
          "iopub.status.busy": "2023-08-26T01:09:06.965929Z",
          "iopub.execute_input": "2023-08-26T01:09:06.966437Z",
          "iopub.status.idle": "2023-08-26T01:09:07.616049Z",
          "shell.execute_reply.started": "2023-08-26T01:09:06.9664Z",
          "shell.execute_reply": "2023-08-26T01:09:07.614449Z"
        },
        "trusted": true,
        "id": "QXHktmNxwWhv"
      },
      "execution_count": null,
      "outputs": []
    },
    {
      "cell_type": "markdown",
      "source": [
        "Survey reveals that more than 40% of the response say that mental health sometimes interfere with work, with more than 10% of the survey say that it affects them often. Around 20% of the answers reveal that mental health does not affect their work. Regardless of the medical and psychological implication of the responses, it is revealed that surveyees who say that mental health does interfere with work at any degree are more likely to seek medical treatment than those who say that it doesn't interfere with their work."
      ],
      "metadata": {
        "id": "dko9SlF7wWhv"
      }
    },
    {
      "cell_type": "code",
      "source": [
        "# Same comment as the previous ones. This will be the last comment for EDA\n",
        "plt.figure(figsize = (20,5))\n",
        "plt.subplot(1,2,1)\n",
        "eda_percentage = mhdata['Remote_Work'].value_counts(normalize = True).rename_axis('Remote_Work').reset_index(name = 'Percentage')\n",
        "sns.barplot(x = 'Remote_Work', y = 'Percentage', data = eda_percentage)\n",
        "plt.title('Working Style of Survey Respondents')\n",
        "plt.subplot(1,2,2)\n",
        "sns.countplot(y = mhdata['Remote_Work'], hue = mhdata['Treatment'])\n",
        "plt.title('Working Style of Survey Respondents')\n",
        "plt.show()"
      ],
      "metadata": {
        "execution": {
          "iopub.status.busy": "2023-08-26T01:07:11.455799Z",
          "iopub.execute_input": "2023-08-26T01:07:11.456375Z",
          "iopub.status.idle": "2023-08-26T01:07:12.099239Z",
          "shell.execute_reply.started": "2023-08-26T01:07:11.456334Z",
          "shell.execute_reply": "2023-08-26T01:07:12.09785Z"
        },
        "trusted": true,
        "id": "xBPTl-mHwWhv"
      },
      "execution_count": null,
      "outputs": []
    },
    {
      "cell_type": "code",
      "source": [
        "plt.figure(figsize = (20,5))\n",
        "plt.subplot(1,2,1)\n",
        "eda_percentage = mhdata['Employee_Count_Company'].value_counts(normalize = True).rename_axis('Employee_Count_Company').reset_index(name = 'Percentage')\n",
        "sns.barplot(x = 'Employee_Count_Company', y = 'Percentage', data = eda_percentage)\n",
        "plt.title('Working Style of Survey Respondents')\n",
        "plt.subplot(1,2,2)\n",
        "sns.countplot(x = mhdata['Employee_Count_Company'], hue = mhdata['Treatment'])\n",
        "plt.title('Employee Size of the Survey Respondents Company')\n",
        "plt.show()\n"
      ],
      "metadata": {
        "execution": {
          "iopub.status.busy": "2023-08-26T01:08:56.315051Z",
          "iopub.execute_input": "2023-08-26T01:08:56.315533Z",
          "iopub.status.idle": "2023-08-26T01:08:57.037604Z",
          "shell.execute_reply.started": "2023-08-26T01:08:56.31549Z",
          "shell.execute_reply": "2023-08-26T01:08:57.036565Z"
        },
        "trusted": true,
        "id": "LAx_6jA9wWhv"
      },
      "execution_count": null,
      "outputs": []
    },
    {
      "cell_type": "markdown",
      "source": [
        "There is no significant pattern with regard to employee size of the company where the respondents are working for and getting a treatment."
      ],
      "metadata": {
        "id": "OMfAFs_-wWhv"
      }
    },
    {
      "cell_type": "code",
      "source": [
        "plt.figure(figsize = (20,5))\n",
        "plt.subplot(1,2,1)\n",
        "eda_percentage = mhdata['Tech_Company'].value_counts(normalize = True).rename_axis('Tech_Company').reset_index(name = 'Percentage')\n",
        "sns.barplot(x = 'Tech_Company', y = 'Percentage', data = eda_percentage)\n",
        "plt.title('Company Type of Survey Respondents')\n",
        "plt.subplot(1,2,2)\n",
        "sns.countplot(y = mhdata['Tech_Company'], hue = mhdata['Treatment'])\n",
        "plt.title('Company Type of Survey Respondents')\n",
        "plt.show()"
      ],
      "metadata": {
        "execution": {
          "iopub.status.busy": "2023-08-26T01:07:58.746678Z",
          "iopub.execute_input": "2023-08-26T01:07:58.747127Z",
          "iopub.status.idle": "2023-08-26T01:07:59.590006Z",
          "shell.execute_reply.started": "2023-08-26T01:07:58.747095Z",
          "shell.execute_reply": "2023-08-26T01:07:59.588672Z"
        },
        "trusted": true,
        "id": "_g1OYOP-wWhw"
      },
      "execution_count": null,
      "outputs": []
    },
    {
      "cell_type": "markdown",
      "source": [
        "Around 18% of the surveyees reveal that they are not with a company that is primarily in the tech field. It also shows that they are more likely to get treatment than those who are working for at a tech company. There are many factors that are at play here. This could also imply that non-tech companies also face a mental health issue among their employees. But it could also suggest that tech companies should promote employee well-being with respect to mental health."
      ],
      "metadata": {
        "id": "-fEDnyCHwWhw"
      }
    },
    {
      "cell_type": "code",
      "source": [
        "plt.figure(figsize = (20,5))\n",
        "plt.subplot(1,2,1)\n",
        "sns.countplot(x = mhdata['Coworkers_Reach'], hue = mhdata['Treatment'])\n",
        "plt.title('Coworkers of Survey Respondents')\n",
        "plt.subplot(1,2,2)\n",
        "sns.countplot(x = mhdata['Supervisor_Reach'], hue = mhdata['Treatment'])\n",
        "plt.title('Supervisor of Survey Respondents')\n",
        "plt.show()"
      ],
      "metadata": {
        "execution": {
          "iopub.status.busy": "2023-08-26T01:08:36.905174Z",
          "iopub.execute_input": "2023-08-26T01:08:36.905596Z",
          "iopub.status.idle": "2023-08-26T01:08:37.538341Z",
          "shell.execute_reply.started": "2023-08-26T01:08:36.905564Z",
          "shell.execute_reply": "2023-08-26T01:08:37.537069Z"
        },
        "trusted": true,
        "id": "6h_xgegEwWhw"
      },
      "execution_count": null,
      "outputs": []
    },
    {
      "cell_type": "markdown",
      "source": [
        "Interestingly, survey shows more positive response with regards to opening up to supervisors than to peers. Respondents who reveal openness to reach out to supervisors are more likely to not get treatment than otherwise. There is no specific pattern with respect to openness to share to coworkers."
      ],
      "metadata": {
        "id": "wTD7J1SBwWhw"
      }
    },
    {
      "cell_type": "code",
      "source": [
        "plt.figure(figsize = (20,5))\n",
        "plt.subplot(1,2,1)\n",
        "eda_percentage = mhdata['Observed_Consequence_Workplace'].value_counts(normalize = True).rename_axis('Observed_Consequence_Workplace').reset_index(name = 'Percentage')\n",
        "sns.barplot(x = 'Observed_Consequence_Workplace', y = 'Percentage', data = eda_percentage)\n",
        "plt.title('Observed Consequence Survey Respondents')\n",
        "plt.subplot(1,2,2)\n",
        "sns.countplot(x = mhdata['Observed_Consequence_Workplace'], hue = mhdata['Treatment'])\n",
        "plt.title('Observed Consequence of Survey Respondents')\n",
        "plt.show()"
      ],
      "metadata": {
        "execution": {
          "iopub.status.busy": "2023-08-26T01:10:21.363151Z",
          "iopub.execute_input": "2023-08-26T01:10:21.363643Z",
          "iopub.status.idle": "2023-08-26T01:10:21.964499Z",
          "shell.execute_reply.started": "2023-08-26T01:10:21.363608Z",
          "shell.execute_reply": "2023-08-26T01:10:21.963126Z"
        },
        "trusted": true,
        "id": "gOlI-tm-wWhw"
      },
      "execution_count": null,
      "outputs": []
    },
    {
      "cell_type": "markdown",
      "source": [
        "More than 80% respondent that they have not observed negative consequences from coworkers with mental health condition in the workplace. But respondents who say that they do observe negative consequences are more likely to seek medical treatment."
      ],
      "metadata": {
        "id": "g5rzeOlhwWhw"
      }
    },
    {
      "cell_type": "markdown",
      "source": [
        "#### Workplace benefits, facilities, and confidentiality"
      ],
      "metadata": {
        "id": "3DfIePN-wWhx"
      }
    },
    {
      "cell_type": "code",
      "source": [
        "plt.figure(figsize = (20,5))\n",
        "plt.subplot(1,2,1)\n",
        "eda_percentage = mhdata['Benefits'].value_counts(normalize = True).rename_axis('Benefits').reset_index(name = 'Percentage')\n",
        "sns.barplot(x = 'Benefits', y = 'Percentage', data = eda_percentage)\n",
        "plt.title('Benefits of Survey Respondents')\n",
        "plt.subplot(1,2,2)\n",
        "sns.countplot(x = mhdata['Benefits'], hue = mhdata['Treatment'])\n",
        "plt.title('Benefits of Survey Respondents')\n",
        "plt.show()"
      ],
      "metadata": {
        "execution": {
          "iopub.status.busy": "2023-08-26T01:11:02.806283Z",
          "iopub.execute_input": "2023-08-26T01:11:02.806745Z",
          "iopub.status.idle": "2023-08-26T01:11:03.36659Z",
          "shell.execute_reply.started": "2023-08-26T01:11:02.806711Z",
          "shell.execute_reply": "2023-08-26T01:11:03.365218Z"
        },
        "trusted": true,
        "id": "iTXJFx4IwWhx"
      },
      "execution_count": null,
      "outputs": []
    },
    {
      "cell_type": "code",
      "source": [
        "plt.figure(figsize = (20,5))\n",
        "plt.subplot(1,2,1)\n",
        "eda_percentage = mhdata['Wellness_Program'].value_counts(normalize = True).rename_axis('Wellness_Program').reset_index(name = 'Percentage')\n",
        "sns.barplot(x = 'Wellness_Program', y = 'Percentage', data = eda_percentage)\n",
        "plt.title('Wellness Program of Survey Respondents')\n",
        "plt.subplot(1,2,2)\n",
        "sns.countplot(x = mhdata['Wellness_Program'], hue = mhdata['Treatment'])\n",
        "plt.title('Wellness Program of Survey Respondents')\n",
        "plt.show()"
      ],
      "metadata": {
        "execution": {
          "iopub.status.busy": "2023-08-26T01:11:20.023308Z",
          "iopub.execute_input": "2023-08-26T01:11:20.024337Z",
          "iopub.status.idle": "2023-08-26T01:11:20.632855Z",
          "shell.execute_reply.started": "2023-08-26T01:11:20.024266Z",
          "shell.execute_reply": "2023-08-26T01:11:20.631467Z"
        },
        "trusted": true,
        "id": "TdLjoc8cwWhx"
      },
      "execution_count": null,
      "outputs": []
    },
    {
      "cell_type": "code",
      "source": [
        "plt.figure(figsize = (20,5))\n",
        "plt.subplot(1,2,1)\n",
        "eda_percentage = mhdata['Anonymity'].value_counts(normalize = True).rename_axis('Anonymity').reset_index(name = 'Percentage')\n",
        "sns.barplot(x = 'Anonymity', y = 'Percentage', data = eda_percentage)\n",
        "plt.title('Anonymity of Survey Respondents')\n",
        "plt.subplot(1,2,2)\n",
        "sns.countplot(x = mhdata['Anonymity'], hue = mhdata['Treatment'])\n",
        "plt.title('Anonymity of Survey Respondents')\n",
        "plt.show()"
      ],
      "metadata": {
        "execution": {
          "iopub.status.busy": "2023-08-26T01:11:32.886931Z",
          "iopub.execute_input": "2023-08-26T01:11:32.887722Z",
          "iopub.status.idle": "2023-08-26T01:11:33.44332Z",
          "shell.execute_reply.started": "2023-08-26T01:11:32.887674Z",
          "shell.execute_reply": "2023-08-26T01:11:33.442052Z"
        },
        "trusted": true,
        "id": "AqCxUZXFwWhx"
      },
      "execution_count": null,
      "outputs": []
    },
    {
      "cell_type": "markdown",
      "source": [
        "* It is revealed that only roughly 35% of the respondents are aware of the benefits present in their workplace and those who know are more likely to get medical treatment. The rest of the surveyees either are not aware of the said benefits or there non present. Those who responded otherwise are more likely to not get treatment than those who know the presence of the said benefits.\n",
        "* Majority of the surveyees reveal the absence of wellness programs in the workplace.\n",
        "* Majority of the respondents reveal that they are not aware if their identity is protected when consulting or assessing mental health in the workplace. This should not be taken lightly as those who responded that they are aware of the precautionary steps regarding their medical condition are more likely to seek medical condition than those who don't know."
      ],
      "metadata": {
        "id": "YYHfZOnwwWhx"
      }
    },
    {
      "cell_type": "markdown",
      "source": [
        "### Data Pre-processing"
      ],
      "metadata": {
        "id": "wZuHxdWgwWhx"
      }
    },
    {
      "cell_type": "code",
      "source": [
        "mhdata['Treatment'] = np.where(mhdata['Treatment'] == 'Yes', 1, 0)"
      ],
      "metadata": {
        "execution": {
          "iopub.status.busy": "2023-08-26T01:12:38.745663Z",
          "iopub.execute_input": "2023-08-26T01:12:38.746174Z",
          "iopub.status.idle": "2023-08-26T01:12:38.756183Z",
          "shell.execute_reply.started": "2023-08-26T01:12:38.746135Z",
          "shell.execute_reply": "2023-08-26T01:12:38.753987Z"
        },
        "trusted": true,
        "id": "W3-NXrsrwWhy"
      },
      "execution_count": null,
      "outputs": []
    },
    {
      "cell_type": "markdown",
      "source": [
        "We now have converted the target variable into boolean values where: <br>\n",
        "\n",
        "* 1 = Yes, to get medical treatment\n",
        "* 2 = No, not getting any medical treatment"
      ],
      "metadata": {
        "id": "ao47wYPIwWhy"
      }
    },
    {
      "cell_type": "code",
      "source": [
        "mhdata.sample(10)"
      ],
      "metadata": {
        "execution": {
          "iopub.status.busy": "2023-08-26T01:13:14.111126Z",
          "iopub.execute_input": "2023-08-26T01:13:14.111751Z",
          "iopub.status.idle": "2023-08-26T01:13:14.145393Z",
          "shell.execute_reply.started": "2023-08-26T01:13:14.11171Z",
          "shell.execute_reply": "2023-08-26T01:13:14.144149Z"
        },
        "trusted": true,
        "id": "fjV6SXzmwWhy"
      },
      "execution_count": null,
      "outputs": []
    },
    {
      "cell_type": "code",
      "source": [
        "# Now, we separate our dependent and independent variables.\n",
        "X = mhdata.drop([\"Treatment\"], axis=1)\n",
        "Y = mhdata[\"Treatment\"]\n",
        "\n",
        "# The independent variables will be transformed into dummy variables\n",
        "X = pd.get_dummies(X, drop_first=True)\n",
        "\n",
        "# adding constant. This is a requirement of Stats Model library. It creates a new column with float value 1\n",
        "X = sm.add_constant(X)"
      ],
      "metadata": {
        "execution": {
          "iopub.status.busy": "2023-08-26T01:14:39.786805Z",
          "iopub.execute_input": "2023-08-26T01:14:39.787269Z",
          "iopub.status.idle": "2023-08-26T01:14:39.834774Z",
          "shell.execute_reply.started": "2023-08-26T01:14:39.787239Z",
          "shell.execute_reply": "2023-08-26T01:14:39.833265Z"
        },
        "trusted": true,
        "id": "EujtsXMHwWhy"
      },
      "execution_count": null,
      "outputs": []
    },
    {
      "cell_type": "code",
      "source": [
        "# Let's see how X looks like with the dummy variables\n",
        "X.head()"
      ],
      "metadata": {
        "execution": {
          "iopub.status.busy": "2023-08-26T01:14:58.17029Z",
          "iopub.execute_input": "2023-08-26T01:14:58.170785Z",
          "iopub.status.idle": "2023-08-26T01:14:58.207082Z",
          "shell.execute_reply.started": "2023-08-26T01:14:58.17075Z",
          "shell.execute_reply": "2023-08-26T01:14:58.205629Z"
        },
        "trusted": true,
        "id": "p0duTKBnwWhy"
      },
      "execution_count": null,
      "outputs": []
    },
    {
      "cell_type": "code",
      "source": [
        "# checking the shape of our predictor for treatment\n",
        "X.shape"
      ],
      "metadata": {
        "execution": {
          "iopub.status.busy": "2023-08-26T01:15:19.651793Z",
          "iopub.execute_input": "2023-08-26T01:15:19.652349Z",
          "iopub.status.idle": "2023-08-26T01:15:19.662088Z",
          "shell.execute_reply.started": "2023-08-26T01:15:19.652312Z",
          "shell.execute_reply": "2023-08-26T01:15:19.660399Z"
        },
        "trusted": true,
        "id": "AkAS8G0iwWhy"
      },
      "execution_count": null,
      "outputs": []
    },
    {
      "cell_type": "markdown",
      "source": [
        "From 26 independent variables, replacing them with dummy variables expanded the columns to 45"
      ],
      "metadata": {
        "id": "jnkEBoDywWhz"
      }
    },
    {
      "cell_type": "code",
      "source": [
        "# Splitting data in train and test sets\n",
        "X_train, X_test, y_train, y_test = train_test_split(\n",
        "    X, Y, test_size=0.30, random_state=1\n",
        ")"
      ],
      "metadata": {
        "execution": {
          "iopub.status.busy": "2023-08-26T01:16:05.08695Z",
          "iopub.execute_input": "2023-08-26T01:16:05.088059Z",
          "iopub.status.idle": "2023-08-26T01:16:05.097745Z",
          "shell.execute_reply.started": "2023-08-26T01:16:05.088013Z",
          "shell.execute_reply": "2023-08-26T01:16:05.096528Z"
        },
        "trusted": true,
        "id": "JBKiOKE_wWhz"
      },
      "execution_count": null,
      "outputs": []
    },
    {
      "cell_type": "code",
      "source": [
        "# defining a function to compute different metrics to check performance of a classification model built using statsmodels\n",
        "def model_performance_classification(model, predictors, target, threshold=0.5):\n",
        "    \"\"\"\n",
        "    Function to compute different metrics to check classification model performance\n",
        "\n",
        "    model: classifier\n",
        "    predictors: independent variables\n",
        "    target: dependent variable\n",
        "    threshold: threshold for classifying the observation as class 1\n",
        "    \"\"\"\n",
        "\n",
        "    # checking which probabilities are greater than threshold\n",
        "    pred_temp = model.predict(predictors) > threshold\n",
        "    # rounding off the above values to get classes\n",
        "    pred = np.round(pred_temp)\n",
        "\n",
        "    acc = accuracy_score(target, pred)  # to compute Accuracy\n",
        "    recall = recall_score(target, pred)  # to compute Recall\n",
        "    precision = precision_score(target, pred)  # to compute Precision\n",
        "    f1 = f1_score(target, pred)  # to compute F1-score\n",
        "\n",
        "    # creating a dataframe of metrics\n",
        "    df_perf = pd.DataFrame(\n",
        "        {\n",
        "            \"Accuracy\": acc,\n",
        "            \"Recall\": recall,\n",
        "            \"Precision\": precision,\n",
        "            \"F1\": f1,\n",
        "        },\n",
        "        index=[0],\n",
        "    )\n",
        "\n",
        "    return df_perf"
      ],
      "metadata": {
        "execution": {
          "iopub.status.busy": "2023-08-26T01:16:13.852054Z",
          "iopub.execute_input": "2023-08-26T01:16:13.852578Z",
          "iopub.status.idle": "2023-08-26T01:16:13.865191Z",
          "shell.execute_reply.started": "2023-08-26T01:16:13.852532Z",
          "shell.execute_reply": "2023-08-26T01:16:13.863586Z"
        },
        "trusted": true,
        "id": "0k4GmdEHwWhz"
      },
      "execution_count": null,
      "outputs": []
    },
    {
      "cell_type": "markdown",
      "source": [
        "## III. Logistic Regression Model"
      ],
      "metadata": {
        "id": "iYys4Nv8wWhz"
      }
    },
    {
      "cell_type": "code",
      "source": [
        "# fitting logistic regression model\n",
        "logit = sm.Logit(y_train, X_train.astype(float))\n",
        "lg = logit.fit(disp=False)\n",
        "\n",
        "print(lg.summary())"
      ],
      "metadata": {
        "execution": {
          "iopub.status.busy": "2023-08-26T01:19:24.706509Z",
          "iopub.execute_input": "2023-08-26T01:19:24.707028Z",
          "iopub.status.idle": "2023-08-26T01:19:25.24608Z",
          "shell.execute_reply.started": "2023-08-26T01:19:24.706992Z",
          "shell.execute_reply": "2023-08-26T01:19:25.244566Z"
        },
        "trusted": true,
        "id": "gMr6TTsSwWhz"
      },
      "execution_count": null,
      "outputs": []
    },
    {
      "cell_type": "markdown",
      "source": [
        "#### At a glance, our Pseudo R-Sqaured is 0.4755 which indicates a moderately strong model fit. <br>\n",
        "\n",
        "* The constant has the heaviest negative coefficient next to Seek_Help_Yes at -4.2152. This means that when all variables are 0 (default settings are: respondent is female, not self-employed, no family history, no work interference, 1-5 employees in the workplace, not working remotely, not a tech company, doesn't know benefits, no care options, doesn't know wellness program, doesn't know company assists in helping to seek help, doesn't know about anonymity of condition in the workplace, doesn't know how difficult to get medical leave, mental health consequence, physical health consequence, believes coworkers nor supervisors are not approachable with respect to medical health, may or may not consider opening topic about mental health or physical health in prospective interviews, and does not observe any negative consequences in the workplace) they are more likely to not get medical treatment for mental health\n",
        "* Several predictor variables have significant coefficients, indicating that they have a statistically significant effect on the outcome variable. For instance, family history, work interference, and care options are positively related to the likelihood of receiving treatment. Work interference variable are the highest positive values among the variables. This indicates that when mental health interferes work more obviously, they are more likely to seek medical help.\n",
        "* Having a family history of a mental health condition, awareness of the presence of benefits, care options, and anonymity in the workplace makes it more likely that the employee will seek medical help\n",
        "* Interestingly, reaching out to coworkers may more likely prompt an employee to seek medical help; while reaching out to supervisors decreases the chance to seek medical help\n",
        "* Gender variables are negative, meaning males and queers are more likely to avoid getting medical help than females\n",
        "\n",
        "#### These are helpful variables should our prediction model focus on a continuous variable as a target variable, but we will be working on a classification model. So let's continue with the logistic regression model\n",
        "\n",
        "### Setting Up a Confusion Matrix"
      ],
      "metadata": {
        "id": "Gfo9mD9fwWhz"
      }
    },
    {
      "cell_type": "code",
      "source": [
        "# defining a function to plot the confusion_matrix of a classification model\n",
        "\n",
        "\n",
        "def confusion_matrix_statsmodels(model, predictors, target, threshold=0.5):\n",
        "    \"\"\"\n",
        "    To plot the confusion_matrix with percentages\n",
        "\n",
        "    model: classifier\n",
        "    predictors: independent variables\n",
        "    target: dependent variable\n",
        "    threshold: threshold for classifying the observation as class 1\n",
        "    \"\"\"\n",
        "    y_pred = model.predict(predictors) > threshold\n",
        "    cm = confusion_matrix(target, y_pred)\n",
        "    group_names = [\"True Neg\", \"False Pos\", \"False Neg\", \"True Pos\"]\n",
        "    group_counts = [\"{0:0.0f}\".format(value) for value in cm.flatten()]\n",
        "    group_percentages = [\"{0:.2%}\".format(value) for value in cm.flatten() / np.sum(cm)]\n",
        "    labels = [\n",
        "        f\"{v1}\\n{v2}\\n{v3}\"\n",
        "        for v1, v2, v3 in zip(group_names, group_counts, group_percentages)\n",
        "    ]\n",
        "    labels = np.asarray(labels).reshape(2, 2)\n",
        "    sns.heatmap(cm, annot=labels, fmt=\"\", cmap=\"Blues\")"
      ],
      "metadata": {
        "execution": {
          "iopub.status.busy": "2023-08-26T01:21:49.901427Z",
          "iopub.execute_input": "2023-08-26T01:21:49.901965Z",
          "iopub.status.idle": "2023-08-26T01:21:49.911983Z",
          "shell.execute_reply.started": "2023-08-26T01:21:49.901929Z",
          "shell.execute_reply": "2023-08-26T01:21:49.910472Z"
        },
        "trusted": true,
        "id": "CqaximCAwWhz"
      },
      "execution_count": null,
      "outputs": []
    },
    {
      "cell_type": "markdown",
      "source": [
        "### Check model performance on training and test set"
      ],
      "metadata": {
        "id": "WiuBw7_xwWh0"
      }
    },
    {
      "cell_type": "code",
      "source": [
        "print(\"Checking model performance on train set:\")\n",
        "confusion_matrix_statsmodels(lg, X_train, y_train, threshold=0.5)"
      ],
      "metadata": {
        "execution": {
          "iopub.status.busy": "2023-08-26T01:22:15.892164Z",
          "iopub.execute_input": "2023-08-26T01:22:15.892983Z",
          "iopub.status.idle": "2023-08-26T01:22:16.377945Z",
          "shell.execute_reply.started": "2023-08-26T01:22:15.892926Z",
          "shell.execute_reply": "2023-08-26T01:22:16.376694Z"
        },
        "trusted": true,
        "id": "_8rK9gZhwWh0"
      },
      "execution_count": null,
      "outputs": []
    },
    {
      "cell_type": "code",
      "source": [
        "print(\"Training performance:\")\n",
        "model_performance_classification(lg, X_train, y_train)"
      ],
      "metadata": {
        "execution": {
          "iopub.status.busy": "2023-08-26T01:22:25.241028Z",
          "iopub.execute_input": "2023-08-26T01:22:25.241576Z",
          "iopub.status.idle": "2023-08-26T01:22:25.36597Z",
          "shell.execute_reply.started": "2023-08-26T01:22:25.241527Z",
          "shell.execute_reply": "2023-08-26T01:22:25.363973Z"
        },
        "trusted": true,
        "id": "FePkJNypwWh0"
      },
      "execution_count": null,
      "outputs": []
    },
    {
      "cell_type": "code",
      "source": [
        "print(\"Checking model performance on test set:\")\n",
        "confusion_matrix_statsmodels(lg, X_test, y_test, threshold=0.5)"
      ],
      "metadata": {
        "execution": {
          "iopub.status.busy": "2023-08-26T01:22:33.372133Z",
          "iopub.execute_input": "2023-08-26T01:22:33.372888Z",
          "iopub.status.idle": "2023-08-26T01:22:33.83902Z",
          "shell.execute_reply.started": "2023-08-26T01:22:33.372796Z",
          "shell.execute_reply": "2023-08-26T01:22:33.83766Z"
        },
        "trusted": true,
        "id": "XsTc51emwWh0"
      },
      "execution_count": null,
      "outputs": []
    },
    {
      "cell_type": "code",
      "source": [
        "print(\"Test performance:\")\n",
        "logistic_regression_perf = model_performance_classification(lg, X_test, y_test)\n",
        "logistic_regression_perf"
      ],
      "metadata": {
        "execution": {
          "iopub.status.busy": "2023-08-26T01:22:40.765779Z",
          "iopub.execute_input": "2023-08-26T01:22:40.766283Z",
          "iopub.status.idle": "2023-08-26T01:22:40.847188Z",
          "shell.execute_reply.started": "2023-08-26T01:22:40.766245Z",
          "shell.execute_reply": "2023-08-26T01:22:40.845628Z"
        },
        "trusted": true,
        "id": "XfPqhx8_wWh0"
      },
      "execution_count": null,
      "outputs": []
    },
    {
      "cell_type": "markdown",
      "source": [
        "We can observe that the model is good <br>\n",
        "\n",
        "* The model is able to detect 87% of employees likely needing treatment\n",
        "* The model's prediction of treatment is true 78% of the time\n",
        "* F1 score is 83% which is balanced"
      ],
      "metadata": {
        "id": "eO0J3zeQwWh0"
      }
    },
    {
      "cell_type": "markdown",
      "source": [
        "### Defining the Matrix\n",
        "We observe that our model is not under or overfitting and the model is good. <br>\n",
        "\n",
        "* True Negative: Employee's actual mental health needs no treatment and the prediction is no treatment needed\n",
        "* True Positive: Employee's actual mental health needs treatment and the prediction is treatment needed\n",
        "* False Negative: Employee's actual mental health needs treatment and the prediction is no treatment needed\n",
        "* False Positive: Employee's actual mental health needs no treatment and the prediction is treatment needed\n",
        "\n",
        "#### The model may make two wrong predictions:\n",
        "* Predicting that the employee needs medical treatment for mental health, but the employee is actually fine (FP)\n",
        "* Predicting that the employee doesn't need medical treatment for mental health, but the employee actually needs treatment (FN)\n",
        "\n",
        "#### Which is more important? As mental health is linked to burnout and stress in the workplace, we aim to avoid a higher FN as much as we can, meaning we want to avoid missing individuals who actually need treatment. Thus a high recall is ideal.\n",
        "\n",
        "### Utilizing ROC-AUC to determine the skill of our model"
      ],
      "metadata": {
        "id": "dPPFaprkwWh0"
      }
    },
    {
      "cell_type": "code",
      "source": [
        "logit_roc_auc_train = roc_auc_score(y_train, lg.predict(X_train))\n",
        "fpr, tpr, thresholds = roc_curve(y_train, lg.predict(X_train))\n",
        "plt.figure(figsize=(7, 5))\n",
        "plt.plot(fpr, tpr, label=\"Logistic Regression (area = %0.2f)\" % logit_roc_auc_train)\n",
        "plt.plot([0, 1], [0, 1], \"r--\")\n",
        "plt.xlim([0.0, 1.0])\n",
        "plt.ylim([0.0, 1.05])\n",
        "plt.xlabel(\"False Positive Rate\")\n",
        "plt.ylabel(\"True Positive Rate\")\n",
        "plt.title(\"Receiver operating characteristic\")\n",
        "plt.legend(loc=\"lower right\")\n",
        "plt.show()"
      ],
      "metadata": {
        "execution": {
          "iopub.status.busy": "2023-08-26T01:24:33.496292Z",
          "iopub.execute_input": "2023-08-26T01:24:33.496778Z",
          "iopub.status.idle": "2023-08-26T01:24:33.969523Z",
          "shell.execute_reply.started": "2023-08-26T01:24:33.496746Z",
          "shell.execute_reply": "2023-08-26T01:24:33.968239Z"
        },
        "trusted": true,
        "id": "iszN8qWVwWh1"
      },
      "execution_count": null,
      "outputs": []
    },
    {
      "cell_type": "markdown",
      "source": [
        "Our model is very skilled! Compared to the unskilled model (red line) our skilled model (blue line) is very strong"
      ],
      "metadata": {
        "id": "1xqRHHnCwWh1"
      }
    },
    {
      "cell_type": "markdown",
      "source": [
        "### Finding the balanced threshold using the Precision-Recal Curve"
      ],
      "metadata": {
        "id": "KmUAEnNWwWh1"
      }
    },
    {
      "cell_type": "code",
      "source": [
        "# Finding the balanced threshold\n",
        "y_scores = lg.predict(X_train)\n",
        "prec, rec, tre = precision_recall_curve(\n",
        "    y_train,\n",
        "    y_scores,\n",
        ")\n",
        "\n",
        "\n",
        "def plot_prec_recall_vs_threshold(precisions, recalls, thresholds):\n",
        "    plt.plot(thresholds, precisions[:-1], \"b--\", label=\"precision\")\n",
        "    plt.plot(thresholds, recalls[:-1], \"g--\", label=\"recall\")\n",
        "    plt.xlabel(\"Threshold\")\n",
        "    plt.legend(loc=\"upper left\")\n",
        "    plt.ylim([0, 1])\n",
        "\n",
        "\n",
        "plt.figure(figsize=(10, 7))\n",
        "plot_prec_recall_vs_threshold(prec, rec, tre)\n",
        "plt.show()"
      ],
      "metadata": {
        "execution": {
          "iopub.status.busy": "2023-08-26T01:32:46.765655Z",
          "iopub.execute_input": "2023-08-26T01:32:46.766159Z",
          "iopub.status.idle": "2023-08-26T01:32:47.240084Z",
          "shell.execute_reply.started": "2023-08-26T01:32:46.766122Z",
          "shell.execute_reply": "2023-08-26T01:32:47.23896Z"
        },
        "trusted": true,
        "id": "A01UlNQ_wWh1"
      },
      "execution_count": null,
      "outputs": []
    },
    {
      "cell_type": "markdown",
      "source": [
        "It looks like a balanced threshold is somewhere around 0.63. Let's redo our results"
      ],
      "metadata": {
        "id": "2W57726twWh1"
      }
    },
    {
      "cell_type": "code",
      "source": [
        "print(\"Training performance:\")\n",
        "model_performance_classification(lg, X_train, y_train, threshold=0.63)"
      ],
      "metadata": {
        "execution": {
          "iopub.status.busy": "2023-08-26T01:33:04.771275Z",
          "iopub.execute_input": "2023-08-26T01:33:04.77179Z",
          "iopub.status.idle": "2023-08-26T01:33:04.819579Z",
          "shell.execute_reply.started": "2023-08-26T01:33:04.771757Z",
          "shell.execute_reply": "2023-08-26T01:33:04.818393Z"
        },
        "trusted": true,
        "id": "WqGV8Y5gwWh1"
      },
      "execution_count": null,
      "outputs": []
    },
    {
      "cell_type": "markdown",
      "source": [
        "Our precision has increased! But our recall has decreased. As we mentioned earlier, in this case we want to prioritize minimizing FN, and thus should have a high recall. Thus, let us decrease threshold and see our results."
      ],
      "metadata": {
        "id": "u2l9aPMewWh1"
      }
    },
    {
      "cell_type": "markdown",
      "source": [
        "## IV. Tuned Logistic Regression"
      ],
      "metadata": {
        "id": "6uHSC_VkwWh1"
      }
    },
    {
      "cell_type": "code",
      "source": [
        "confusion_matrix_statsmodels(lg, X_train, y_train, threshold=0.3)"
      ],
      "metadata": {
        "execution": {
          "iopub.status.busy": "2023-08-26T01:33:40.731913Z",
          "iopub.execute_input": "2023-08-26T01:33:40.732408Z",
          "iopub.status.idle": "2023-08-26T01:33:41.170227Z",
          "shell.execute_reply.started": "2023-08-26T01:33:40.732371Z",
          "shell.execute_reply": "2023-08-26T01:33:41.168926Z"
        },
        "trusted": true,
        "id": "-zDQgkvhwWh4"
      },
      "execution_count": null,
      "outputs": []
    },
    {
      "cell_type": "code",
      "source": [
        "log_reg_model_train_perf_threshold_curve = model_performance_classification(\n",
        "    lg, X_train, y_train, threshold=0.3\n",
        ")\n",
        "print(\"Training performance:\")\n",
        "log_reg_model_train_perf_threshold_curve\n"
      ],
      "metadata": {
        "execution": {
          "iopub.status.busy": "2023-08-26T01:34:05.106675Z",
          "iopub.execute_input": "2023-08-26T01:34:05.107666Z",
          "iopub.status.idle": "2023-08-26T01:34:05.15748Z",
          "shell.execute_reply.started": "2023-08-26T01:34:05.107622Z",
          "shell.execute_reply": "2023-08-26T01:34:05.155927Z"
        },
        "trusted": true,
        "id": "xq6T1O8MwWh4"
      },
      "execution_count": null,
      "outputs": []
    },
    {
      "cell_type": "code",
      "source": [
        "print(\"Checking model performance on test set:\")\n",
        "confusion_matrix_statsmodels(lg, X_test, y_test, threshold=0.3)"
      ],
      "metadata": {
        "execution": {
          "iopub.status.busy": "2023-08-26T01:34:10.846168Z",
          "iopub.execute_input": "2023-08-26T01:34:10.846559Z",
          "iopub.status.idle": "2023-08-26T01:34:11.384662Z",
          "shell.execute_reply.started": "2023-08-26T01:34:10.846529Z",
          "shell.execute_reply": "2023-08-26T01:34:11.383454Z"
        },
        "trusted": true,
        "id": "U9Tzl6oqwWh4"
      },
      "execution_count": null,
      "outputs": []
    },
    {
      "cell_type": "code",
      "source": [
        "print(\"Test performance:\")\n",
        "logistic_regression_tuned = model_performance_classification(lg, X_test, y_test, threshold=0.3)\n",
        "logistic_regression_tuned"
      ],
      "metadata": {
        "execution": {
          "iopub.status.busy": "2023-08-26T01:34:17.895798Z",
          "iopub.execute_input": "2023-08-26T01:34:17.896346Z",
          "iopub.status.idle": "2023-08-26T01:34:17.941291Z",
          "shell.execute_reply.started": "2023-08-26T01:34:17.896304Z",
          "shell.execute_reply": "2023-08-26T01:34:17.939715Z"
        },
        "trusted": true,
        "id": "fdUFgvdfwWh5"
      },
      "execution_count": null,
      "outputs": []
    },
    {
      "cell_type": "markdown",
      "source": [
        "This is ideal for our model. A high recall and still a decent precision, and a balanced F1. Let's try a decision tree model this time."
      ],
      "metadata": {
        "execution": {
          "iopub.status.busy": "2023-08-26T01:34:24.046773Z",
          "iopub.execute_input": "2023-08-26T01:34:24.047275Z",
          "iopub.status.idle": "2023-08-26T01:34:24.057383Z",
          "shell.execute_reply.started": "2023-08-26T01:34:24.04724Z",
          "shell.execute_reply": "2023-08-26T01:34:24.055336Z"
        },
        "id": "MXr91VuFwWh5"
      }
    },
    {
      "cell_type": "markdown",
      "source": [
        "## V. Decision Tree Model"
      ],
      "metadata": {
        "id": "wQ-0chDkwWh5"
      }
    },
    {
      "cell_type": "code",
      "source": [
        "# Decision Tree Modeling\n",
        "dTree = DecisionTreeClassifier(criterion=\"gini\", random_state=1)\n",
        "dTree.fit(X_train, y_train)"
      ],
      "metadata": {
        "execution": {
          "iopub.status.busy": "2023-08-26T01:34:48.666108Z",
          "iopub.execute_input": "2023-08-26T01:34:48.66659Z",
          "iopub.status.idle": "2023-08-26T01:34:48.6961Z",
          "shell.execute_reply.started": "2023-08-26T01:34:48.666556Z",
          "shell.execute_reply": "2023-08-26T01:34:48.695032Z"
        },
        "trusted": true,
        "id": "em5ydV6bwWh5"
      },
      "execution_count": null,
      "outputs": []
    },
    {
      "cell_type": "code",
      "source": [
        "dTree_model_train_perf = model_performance_classification(\n",
        "    dTree, X_train, y_train\n",
        ")\n",
        "print(\"Training performance:\\n\", dTree_model_train_perf)\n",
        "dTree_model_test_perf = model_performance_classification(dTree, X_test, y_test)\n",
        "print(\"Testing performance:\\n\", dTree_model_test_perf)"
      ],
      "metadata": {
        "execution": {
          "iopub.status.busy": "2023-08-26T01:34:55.682019Z",
          "iopub.execute_input": "2023-08-26T01:34:55.682451Z",
          "iopub.status.idle": "2023-08-26T01:34:55.720159Z",
          "shell.execute_reply.started": "2023-08-26T01:34:55.682417Z",
          "shell.execute_reply": "2023-08-26T01:34:55.718958Z"
        },
        "trusted": true,
        "id": "_JctsXFhwWh5"
      },
      "execution_count": null,
      "outputs": []
    },
    {
      "cell_type": "markdown",
      "source": [
        "#### **An overfitted model!** Let's try to fix this."
      ],
      "metadata": {
        "id": "4aCVR6CBwWh5"
      }
    },
    {
      "cell_type": "code",
      "source": [
        "# function to create Confusion matrix\n",
        "def create_confusion_matrix(model, predictors, target, figsize=(5, 5)):\n",
        "    y_pred = model.predict(predictors)\n",
        "    cm = confusion_matrix(target, y_pred)\n",
        "    group_names = [\"True Neg\", \"False Pos\", \"False Neg\", \"True Pos\"]\n",
        "    group_counts = [\"{0:0.0f}\".format(value) for value in cm.flatten()]\n",
        "    group_percentages = [\"{0:.2%}\".format(value) for value in cm.flatten() / np.sum(cm)]\n",
        "    labels = [\n",
        "        f\"{v1}\\n{v2}\\n{v3}\"\n",
        "        for v1, v2, v3 in zip(group_names, group_counts, group_percentages)\n",
        "    ]\n",
        "    labels = np.asarray(labels).reshape(2, 2)\n",
        "    plt.figure(figsize=figsize)\n",
        "    sns.heatmap(cm, annot=labels, fmt=\"\", cmap=\"Blues\")"
      ],
      "metadata": {
        "execution": {
          "iopub.status.busy": "2023-08-26T01:35:40.002421Z",
          "iopub.execute_input": "2023-08-26T01:35:40.003212Z",
          "iopub.status.idle": "2023-08-26T01:35:40.019436Z",
          "shell.execute_reply.started": "2023-08-26T01:35:40.003162Z",
          "shell.execute_reply": "2023-08-26T01:35:40.018134Z"
        },
        "trusted": true,
        "id": "vzzmki9awWh5"
      },
      "execution_count": null,
      "outputs": []
    },
    {
      "cell_type": "code",
      "source": [
        "# Creating confusion matrix\n",
        "create_confusion_matrix(dTree, X_test, y_test, figsize=(4, 3))"
      ],
      "metadata": {
        "execution": {
          "iopub.status.busy": "2023-08-26T01:35:46.291064Z",
          "iopub.execute_input": "2023-08-26T01:35:46.29151Z",
          "iopub.status.idle": "2023-08-26T01:35:46.682614Z",
          "shell.execute_reply.started": "2023-08-26T01:35:46.291476Z",
          "shell.execute_reply": "2023-08-26T01:35:46.681153Z"
        },
        "trusted": true,
        "id": "rSot72OlwWh6"
      },
      "execution_count": null,
      "outputs": []
    },
    {
      "cell_type": "code",
      "source": [
        "feature_names = list(X.columns)\n",
        "print(feature_names)"
      ],
      "metadata": {
        "execution": {
          "iopub.status.busy": "2023-08-26T01:35:53.145846Z",
          "iopub.execute_input": "2023-08-26T01:35:53.146367Z",
          "iopub.status.idle": "2023-08-26T01:35:53.152802Z",
          "shell.execute_reply.started": "2023-08-26T01:35:53.14633Z",
          "shell.execute_reply": "2023-08-26T01:35:53.151317Z"
        },
        "trusted": true,
        "id": "RkowVi5ewWh6"
      },
      "execution_count": null,
      "outputs": []
    },
    {
      "cell_type": "code",
      "source": [
        "plt.figure(figsize=(40, 30))\n",
        "tree.plot_tree(\n",
        "    dTree,\n",
        "    feature_names=feature_names,\n",
        "    filled=True,\n",
        "    fontsize=9,\n",
        "    node_ids=True,\n",
        "    class_names=True,\n",
        ")\n",
        "plt.show()"
      ],
      "metadata": {
        "execution": {
          "iopub.status.busy": "2023-08-26T01:36:00.256723Z",
          "iopub.execute_input": "2023-08-26T01:36:00.257211Z",
          "iopub.status.idle": "2023-08-26T01:36:15.026553Z",
          "shell.execute_reply.started": "2023-08-26T01:36:00.257178Z",
          "shell.execute_reply": "2023-08-26T01:36:15.02504Z"
        },
        "trusted": true,
        "id": "BZpBRSV2wWh6"
      },
      "execution_count": null,
      "outputs": []
    },
    {
      "cell_type": "markdown",
      "source": [
        " #### The decision tree model is very robust and hard to identify so a text version will be called"
      ],
      "metadata": {
        "id": "FzLgqoFowWh6"
      }
    },
    {
      "cell_type": "code",
      "source": [
        "print(tree.export_text(dTree, feature_names=feature_names, show_weights=False))"
      ],
      "metadata": {
        "execution": {
          "iopub.status.busy": "2023-08-26T01:38:28.731626Z",
          "iopub.execute_input": "2023-08-26T01:38:28.732264Z",
          "iopub.status.idle": "2023-08-26T01:38:28.753149Z",
          "shell.execute_reply.started": "2023-08-26T01:38:28.732217Z",
          "shell.execute_reply": "2023-08-26T01:38:28.751214Z"
        },
        "trusted": true,
        "id": "NtLhqDh6wWh6"
      },
      "execution_count": null,
      "outputs": []
    },
    {
      "cell_type": "markdown",
      "source": [
        "We have a lot of variables so this is really hard to decipher."
      ],
      "metadata": {
        "id": "BHMdeuVQwWh6"
      }
    },
    {
      "cell_type": "code",
      "source": [
        "# Printing feature importances\n",
        "print(\n",
        "    pd.DataFrame(\n",
        "        dTree.feature_importances_, columns=[\"Imp\"], index=X_train.columns\n",
        "    ).sort_values(by=\"Imp\", ascending=False)\n",
        ")"
      ],
      "metadata": {
        "execution": {
          "iopub.status.busy": "2023-08-26T01:39:09.865509Z",
          "iopub.execute_input": "2023-08-26T01:39:09.866Z",
          "iopub.status.idle": "2023-08-26T01:39:09.877312Z",
          "shell.execute_reply.started": "2023-08-26T01:39:09.865957Z",
          "shell.execute_reply": "2023-08-26T01:39:09.876278Z"
        },
        "trusted": true,
        "id": "AKspqu8RwWh6"
      },
      "execution_count": null,
      "outputs": []
    },
    {
      "cell_type": "markdown",
      "source": [
        "We can see that work interference, age, family history, care options, and wellness program are the most important features of the model."
      ],
      "metadata": {
        "id": "hPDxIVErwWh6"
      }
    },
    {
      "cell_type": "code",
      "source": [
        "# Loading feature importance in a graph to get a better understanding\n",
        "importances = dTree.feature_importances_\n",
        "indices = np.argsort(importances)\n",
        "\n",
        "plt.figure(figsize=(13, 11))\n",
        "plt.title(\"Feature Importances\")\n",
        "plt.barh(range(len(indices)), importances[indices], color=\"violet\", align=\"center\")\n",
        "plt.yticks(range(len(indices)), [feature_names[i] for i in indices])\n",
        "plt.xlabel(\"Relative Importance\")\n",
        "plt.show()"
      ],
      "metadata": {
        "execution": {
          "iopub.status.busy": "2023-08-26T01:39:40.865279Z",
          "iopub.execute_input": "2023-08-26T01:39:40.86571Z",
          "iopub.status.idle": "2023-08-26T01:39:41.807367Z",
          "shell.execute_reply.started": "2023-08-26T01:39:40.86568Z",
          "shell.execute_reply": "2023-08-26T01:39:41.806087Z"
        },
        "trusted": true,
        "id": "OMrO25VrwWh7"
      },
      "execution_count": null,
      "outputs": []
    },
    {
      "cell_type": "markdown",
      "source": [
        "## VI. Tuned Decision Tree Model"
      ],
      "metadata": {
        "id": "GraV9w1WwWh7"
      }
    },
    {
      "cell_type": "markdown",
      "source": [
        "### Reducing the overfitting problem"
      ],
      "metadata": {
        "id": "xpSay3c9wWh7"
      }
    },
    {
      "cell_type": "code",
      "source": [
        "# Let's reduce our depth to 4, the previous decision tree model looked too overwhelming\n",
        "dTree_short = DecisionTreeClassifier(criterion=\"gini\", max_depth=4, random_state=1)\n",
        "dTree_short.fit(X_train, y_train)"
      ],
      "metadata": {
        "execution": {
          "iopub.status.busy": "2023-08-26T01:41:08.17041Z",
          "iopub.execute_input": "2023-08-26T01:41:08.170833Z",
          "iopub.status.idle": "2023-08-26T01:41:08.202933Z",
          "shell.execute_reply.started": "2023-08-26T01:41:08.170803Z",
          "shell.execute_reply": "2023-08-26T01:41:08.201715Z"
        },
        "trusted": true,
        "id": "OckvBpoUwWh7"
      },
      "execution_count": null,
      "outputs": []
    },
    {
      "cell_type": "code",
      "source": [
        "create_confusion_matrix(dTree_short, X_test, y_test, figsize=(4, 3))"
      ],
      "metadata": {
        "execution": {
          "iopub.status.busy": "2023-08-26T01:41:41.365305Z",
          "iopub.execute_input": "2023-08-26T01:41:41.3658Z",
          "iopub.status.idle": "2023-08-26T01:41:41.747367Z",
          "shell.execute_reply.started": "2023-08-26T01:41:41.365765Z",
          "shell.execute_reply": "2023-08-26T01:41:41.744382Z"
        },
        "trusted": true,
        "id": "Hn-5ADdowWh7"
      },
      "execution_count": null,
      "outputs": []
    },
    {
      "cell_type": "code",
      "source": [
        "# Calculating different metrics\n",
        "dTree_short_model_train_perf = model_performance_classification(\n",
        "    dTree_short, X_train, y_train\n",
        ")\n",
        "print(\"Training performance:\\n\", dTree_short_model_train_perf)\n",
        "dTree_short_model_test_perf = model_performance_classification(dTree_short, X_test, y_test)\n",
        "print(\"Testing performance:\\n\", dTree_short_model_test_perf)"
      ],
      "metadata": {
        "execution": {
          "iopub.status.busy": "2023-08-26T01:41:48.458406Z",
          "iopub.execute_input": "2023-08-26T01:41:48.458845Z",
          "iopub.status.idle": "2023-08-26T01:41:48.498897Z",
          "shell.execute_reply.started": "2023-08-26T01:41:48.458813Z",
          "shell.execute_reply": "2023-08-26T01:41:48.497687Z"
        },
        "trusted": true,
        "id": "09soxffIwWh7"
      },
      "execution_count": null,
      "outputs": []
    },
    {
      "cell_type": "markdown",
      "source": [
        "#### We were able to solve the overfitting model but the results show poorer performance than our logistic regression. This model is not that good"
      ],
      "metadata": {
        "id": "5TvP0mQuwWh7"
      }
    },
    {
      "cell_type": "code",
      "source": [
        "plt.figure(figsize=(15, 10))\n",
        "\n",
        "tree.plot_tree(\n",
        "    dTree_short,\n",
        "    feature_names=feature_names,\n",
        "    filled=True,\n",
        "    fontsize=9,\n",
        "    node_ids=True,\n",
        "    class_names=True,\n",
        ")\n",
        "plt.show()"
      ],
      "metadata": {
        "execution": {
          "iopub.status.busy": "2023-08-26T01:42:08.210655Z",
          "iopub.execute_input": "2023-08-26T01:42:08.212038Z",
          "iopub.status.idle": "2023-08-26T01:42:10.292086Z",
          "shell.execute_reply.started": "2023-08-26T01:42:08.211993Z",
          "shell.execute_reply": "2023-08-26T01:42:10.290549Z"
        },
        "trusted": true,
        "id": "1n3gB1kFwWh7"
      },
      "execution_count": null,
      "outputs": []
    },
    {
      "cell_type": "code",
      "source": [
        "print(tree.export_text(dTree_short, feature_names=feature_names, show_weights=False))"
      ],
      "metadata": {
        "execution": {
          "iopub.status.busy": "2023-08-26T01:42:17.147325Z",
          "iopub.execute_input": "2023-08-26T01:42:17.147852Z",
          "iopub.status.idle": "2023-08-26T01:42:17.15776Z",
          "shell.execute_reply.started": "2023-08-26T01:42:17.147811Z",
          "shell.execute_reply": "2023-08-26T01:42:17.155983Z"
        },
        "trusted": true,
        "id": "c7prYQoTwWh8"
      },
      "execution_count": null,
      "outputs": []
    },
    {
      "cell_type": "markdown",
      "source": [
        "## VII. Testing and Conclusion"
      ],
      "metadata": {
        "id": "DNwebZbDwWh8"
      }
    },
    {
      "cell_type": "markdown",
      "source": [
        "Let's test our models using a hypothetical employee"
      ],
      "metadata": {
        "id": "h3yqMTPvwWh8"
      }
    },
    {
      "cell_type": "code",
      "source": [
        "new_respondent = pd.DataFrame([{\n",
        "    'const': 1,\n",
        "    'Age': 27,\n",
        "    'Gender_Male': 0,\n",
        "    'Gender_Queer': 0,\n",
        "    'Self_Employed_Yes': 0,\n",
        "    'Family_History_Yes': 1,\n",
        "    'Work_Interfere_Often': 0,\n",
        "    'Work_Interfere_Rarely': 0,\n",
        "    'Work_Interfere_Sometimes': 1,\n",
        "    'Employee_Count_Company_100-500': 0,\n",
        "    'Employee_Count_Company_26-100': 1,\n",
        "    'Employee_Count_Company_500-1000': 0,\n",
        "    'Employee_Count_Company_6-25': 0,\n",
        "    'Employee_Count_Company_More than 1000': 0,\n",
        "    'Remote_Work_Yes': 1,\n",
        "    'Tech_Company_Yes': 1,\n",
        "    'Benefits_No': 0,\n",
        "    'Benefits_Yes': 1,\n",
        "    'Care_Options_Not sure': 0,\n",
        "    'Care_Options_Yes': 1,\n",
        "    'Wellness_Program_No': 1,\n",
        "    'Wellness_Program_Yes': 0,\n",
        "    'Seek_Help_No': 0,\n",
        "    'Seek_Help_Yes': 1,\n",
        "    'Anonymity_No': 0,\n",
        "    'Anonymity_Yes': 1,\n",
        "    'Medical_Leave_Somewhat difficult': 0,\n",
        "    'Medical_Leave_Somewhat easy': 0,\n",
        "    'Medical_Leave_Very difficult': 0,\n",
        "    'Medical_Leave_Very easy': 1,\n",
        "    'Mental_Health_Consequence_No': 0,\n",
        "    'Mental_Health_Consequence_Yes': 0,\n",
        "    'Physical_Health_Consequence_No': 0,\n",
        "    'Physical_Health_Consequence_Yes': 0,\n",
        "    'Coworkers_Reach_Some of them': 0,\n",
        "    'Coworkers_Reach_Yes': 1,\n",
        "    'Supervisor_Reach_Some of them': 0,\n",
        "    'Supervisor_Reach_Yes': 0,\n",
        "    'Mental_Health_Interview_No': 0,\n",
        "    'Mental_Health_Interview_Yes': 0,\n",
        "    'Physical_Health_Interview_No': 0,\n",
        "    'Physical_Health_Interview_Yes': 0,\n",
        "    'Mental_VS_Physical_No': 0,\n",
        "    'Mental_VS_Physical_Yes': 1,\n",
        "    'Observed_Consequence_Workplace_Yes': 0,\n",
        "\n",
        "\n",
        "}],columns=[\n",
        "    'const',\n",
        "    'Age',\n",
        "    'Gender_Male',\n",
        "    'Gender_Queer',\n",
        "    'Self_Employed_Yes',\n",
        "    'Family_History_Yes',\n",
        "    'Work_Interfere_Often',\n",
        "    'Work_Interfere_Rarely',\n",
        "    'Work_Interfere_Sometimes',\n",
        "    'Employee_Count_Company_100-500',\n",
        "    'Employee_Count_Company_26-100',\n",
        "    'Employee_Count_Company_500-1000',\n",
        "    'Employee_Count_Company_6-25',\n",
        "    'Employee_Count_Company_More than 1000',\n",
        "    'Remote_Work_Yes',\n",
        "    'Tech_Company_Yes',\n",
        "    'Benefits_No',\n",
        "    'Benefits_Yes',\n",
        "    'Care_Options_Not sure',\n",
        "    'Care_Options_Yes',\n",
        "    'Wellness_Program_No',\n",
        "    'Wellness_Program_Yes',\n",
        "    'Seek_Help_No',\n",
        "    'Seek_Help_Yes',\n",
        "    'Anonymity_No',\n",
        "    'Anonymity_Yes',\n",
        "    'Medical_Leave_Somewhat difficult',\n",
        "    'Medical_Leave_Somewhat easy',\n",
        "    'Medical_Leave_Very difficult',\n",
        "    'Medical_Leave_Very easy',\n",
        "    'Mental_Health_Consequence_No',\n",
        "    'Mental_Health_Consequence_Yes',\n",
        "    'Physical_Health_Consequence_No',\n",
        "    'Physical_Health_Consequence_Yes',\n",
        "    'Coworkers_Reach_Some of them',\n",
        "    'Coworkers_Reach_Yes',\n",
        "    'Supervisor_Reach_Some of them',\n",
        "    'Supervisor_Reach_Yes',\n",
        "    'Mental_Health_Interview_No',\n",
        "    'Mental_Health_Interview_Yes',\n",
        "    'Physical_Health_Interview_No',\n",
        "    'Physical_Health_Interview_Yes',\n",
        "    'Mental_VS_Physical_No',\n",
        "    'Mental_VS_Physical_Yes',\n",
        "    'Observed_Consequence_Workplace_Yes',],)\n",
        "new_respondent"
      ],
      "metadata": {
        "execution": {
          "iopub.status.busy": "2023-08-26T01:43:38.446566Z",
          "iopub.execute_input": "2023-08-26T01:43:38.447152Z",
          "iopub.status.idle": "2023-08-26T01:43:38.496122Z",
          "shell.execute_reply.started": "2023-08-26T01:43:38.447108Z",
          "shell.execute_reply": "2023-08-26T01:43:38.494829Z"
        },
        "trusted": true,
        "id": "XHjvgJMowWh8"
      },
      "execution_count": null,
      "outputs": []
    },
    {
      "cell_type": "code",
      "source": [
        "predictionlg = lg.predict(new_respondent)\n",
        "print('Prediction:', round(predictionlg[0]))"
      ],
      "metadata": {
        "execution": {
          "iopub.status.busy": "2023-08-26T01:45:11.420615Z",
          "iopub.execute_input": "2023-08-26T01:45:11.421171Z",
          "iopub.status.idle": "2023-08-26T01:45:11.429632Z",
          "shell.execute_reply.started": "2023-08-26T01:45:11.421132Z",
          "shell.execute_reply": "2023-08-26T01:45:11.42833Z"
        },
        "trusted": true,
        "id": "OIDMbRVAwWh8"
      },
      "execution_count": null,
      "outputs": []
    },
    {
      "cell_type": "code",
      "source": [
        "predictiondt = dTree.predict(new_respondent)\n",
        "print('Prediction:', round(predictiondt[0]))"
      ],
      "metadata": {
        "execution": {
          "iopub.status.busy": "2023-08-26T01:45:43.635669Z",
          "iopub.execute_input": "2023-08-26T01:45:43.636121Z",
          "iopub.status.idle": "2023-08-26T01:45:43.645402Z",
          "shell.execute_reply.started": "2023-08-26T01:45:43.636087Z",
          "shell.execute_reply": "2023-08-26T01:45:43.643713Z"
        },
        "trusted": true,
        "id": "8jvwEDDgwWh9"
      },
      "execution_count": null,
      "outputs": []
    },
    {
      "cell_type": "code",
      "source": [
        "predictiondts = dTree_short.predict(new_respondent)\n",
        "print('Prediction:', round(predictiondts[0]))"
      ],
      "metadata": {
        "execution": {
          "iopub.status.busy": "2023-08-26T01:45:41.846343Z",
          "iopub.execute_input": "2023-08-26T01:45:41.847001Z",
          "iopub.status.idle": "2023-08-26T01:45:41.859057Z",
          "shell.execute_reply.started": "2023-08-26T01:45:41.846954Z",
          "shell.execute_reply": "2023-08-26T01:45:41.857516Z"
        },
        "trusted": true,
        "id": "cbfIwReMwWh9"
      },
      "execution_count": null,
      "outputs": []
    },
    {
      "cell_type": "markdown",
      "source": [
        "Testing all of our models, this sample respondent is identified as \"yes, needs treatment\""
      ],
      "metadata": {
        "id": "LwwTfReXwWh9"
      }
    },
    {
      "cell_type": "markdown",
      "source": [
        "### Comparing the models"
      ],
      "metadata": {
        "id": "NTlHOXiKwWh9"
      }
    },
    {
      "cell_type": "code",
      "source": [
        "# testing performance comparison\n",
        "\n",
        "models_test_comp_df = pd.concat(\n",
        "    [\n",
        "        logistic_regression_perf.T,\n",
        "        logistic_regression_tuned.T,\n",
        "        dTree_model_test_perf.T,\n",
        "        dTree_short_model_test_perf.T,\n",
        "    ],\n",
        "    axis=1,\n",
        ")\n",
        "models_test_comp_df.columns = [\n",
        "    \"Logistic Regression\",\n",
        "    \"Logistic Regression Tuned\",\n",
        "    \"Decision Tree\",\n",
        "    \"Decision Tree Tuned\",\n",
        "\n",
        "]\n",
        "print(\"Testing performance comparison:\")\n",
        "models_test_comp_df"
      ],
      "metadata": {
        "execution": {
          "iopub.status.busy": "2023-08-26T01:46:28.665806Z",
          "iopub.execute_input": "2023-08-26T01:46:28.667299Z",
          "iopub.status.idle": "2023-08-26T01:46:28.687385Z",
          "shell.execute_reply.started": "2023-08-26T01:46:28.667249Z",
          "shell.execute_reply": "2023-08-26T01:46:28.686057Z"
        },
        "trusted": true,
        "id": "nZ2l1SIfwWh9"
      },
      "execution_count": null,
      "outputs": []
    },
    {
      "cell_type": "markdown",
      "source": [
        "The logistic regression tuned model is more ideal: Has the highest accuracy, recall, and F1 among the four models generated. We would like to reiterate that for this subject we want as many employees to be identified needing treatment so we want a high recall."
      ],
      "metadata": {
        "id": "rjEKg2JAwWh9"
      }
    }
  ]
}